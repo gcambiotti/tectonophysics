{
 "cells": [
  {
   "cell_type": "markdown",
   "id": "99dbddc1-8bdf-4162-9b40-86c52f273625",
   "metadata": {
    "tags": [
     "full-width"
    ]
   },
   "source": [
    "# Tutorial on [Python](https://www.python.org)\n",
    "\n",
    "```{contents} Sections\n",
    ":local:\n",
    ":depth: 2\n",
    "```"
   ]
  },
  {
   "cell_type": "markdown",
   "id": "205129a3",
   "metadata": {},
   "source": [
    "```{div} full-width\n",
    "\n",
    "In order to familiarize with the [Python](https://www.python.org) language you can follow an [informal introduction to Python](https://docs.python.org/3/tutorial/introduction.html) typing in the cells of your first notebook (and pressing return). After that you can start to understand more advanced topics. \n",
    "\n",
    "```"
   ]
  },
  {
   "cell_type": "markdown",
   "id": "7b6aeb1c-0c5b-428f-86cd-6de5b805b8d6",
   "metadata": {},
   "source": [
    "## Lists, tuples, sets and dictionaries\n",
    "\n",
    "\n",
    "```{div} full-width\n",
    "There are four built-in data types in Python used to store collections of data: lists, tuples, sets and dictionaries, all with different qualities and usage.\n",
    "```\n",
    "\n",
    "### Lists\n",
    "\n",
    "```{div} full-width\n",
    "\n",
    "Lists are used to store multiple items in a single variable and are created using square brackets\n",
    "\n",
    "```"
   ]
  },
  {
   "cell_type": "code",
   "execution_count": 1,
   "id": "f2f95f8e-deea-45f2-87bb-c318f78a4b55",
   "metadata": {
    "tags": [
     "full-width"
    ]
   },
   "outputs": [
    {
     "name": "stdout",
     "output_type": "stream",
     "text": [
      "[1, 1.2, 'banana', [2, 3]]\n"
     ]
    }
   ],
   "source": [
    "my_list = [ 1, 1.2,\"banana\", [2,3] ]\n",
    "print(my_list)"
   ]
  },
  {
   "cell_type": "markdown",
   "id": "c42ed578-97d6-4660-b994-2d5a231ae91f",
   "metadata": {},
   "source": [
    "```{div} full-width\n",
    "\n",
    "Note that the elements of a list can be of different types (integers, floats, string and lists as well).\n",
    "\n",
    "You can unpack the elements of a list\n",
    "\n",
    "```"
   ]
  },
  {
   "cell_type": "code",
   "execution_count": 2,
   "id": "f0344516-d2c4-4773-8c99-91d04fb2cad6",
   "metadata": {
    "tags": [
     "full-width"
    ]
   },
   "outputs": [
    {
     "name": "stdout",
     "output_type": "stream",
     "text": [
      "a = 1\n",
      "b = 1.2\n",
      "c = banana\n",
      "d = [2, 3]\n"
     ]
    }
   ],
   "source": [
    "a,b,c,d = my_list\n",
    "print(\"a =\",a)\n",
    "print(\"b =\",b)\n",
    "print(\"c =\",c)\n",
    "print(\"d =\",d)"
   ]
  },
  {
   "cell_type": "markdown",
   "id": "f82b0ede-886c-4e9b-b7a5-ad38083c59b3",
   "metadata": {},
   "source": [
    "```{div} full-width\n",
    "\n",
    "or you can access single elements of a list using the list index inside square brackets\n",
    "\n",
    "```"
   ]
  },
  {
   "cell_type": "code",
   "execution_count": 3,
   "id": "f63c0839-a348-47dc-ab00-c81e89059b39",
   "metadata": {
    "tags": [
     "full-width"
    ]
   },
   "outputs": [
    {
     "name": "stdout",
     "output_type": "stream",
     "text": [
      "a = 1\n",
      "b = banana\n"
     ]
    }
   ],
   "source": [
    "a = my_list[0]\n",
    "b = my_list[2]\n",
    "print(\"a =\",a)\n",
    "print(\"b =\",b)"
   ]
  },
  {
   "cell_type": "markdown",
   "id": "d11fbcf7-34ae-4e0c-a5d1-186ae7e372a7",
   "metadata": {},
   "source": [
    "```{div} full-width\n",
    "\n",
    "In order to know how many elements a list have you can use the function `len`\n",
    "\n",
    "```"
   ]
  },
  {
   "cell_type": "code",
   "execution_count": 4,
   "id": "2df16148-602b-421a-87ee-b2278b4dd42d",
   "metadata": {
    "tags": [
     "full-width"
    ]
   },
   "outputs": [
    {
     "name": "stdout",
     "output_type": "stream",
     "text": [
      "n = 4\n"
     ]
    }
   ],
   "source": [
    "n = len(my_list)\n",
    "print(\"n =\",n)"
   ]
  },
  {
   "cell_type": "markdown",
   "id": "5058e4cb-3bc9-4760-bc2e-0fd4fdb65466",
   "metadata": {},
   "source": [
    "```{div} full-width\n",
    "\n",
    "Yoy can also create new lists which contain all the elements of a list starting from a list index or up to a list index (excluded)\n",
    "\n",
    "```"
   ]
  },
  {
   "cell_type": "code",
   "execution_count": 5,
   "id": "4b5b4063-9e9f-43f3-8321-d187e15563dd",
   "metadata": {
    "tags": [
     "full-width"
    ]
   },
   "outputs": [
    {
     "name": "stdout",
     "output_type": "stream",
     "text": [
      "c = ['banana', [2, 3]]\n",
      "d = [1, 1.2]\n"
     ]
    }
   ],
   "source": [
    "c = my_list[2:]\n",
    "d = my_list[:2]\n",
    "print(\"c =\",c)\n",
    "print(\"d =\",d)"
   ]
  },
  {
   "cell_type": "markdown",
   "id": "766d8d1e-464a-42f9-af56-1ef8df438d10",
   "metadata": {},
   "source": [
    "```{div} full-width\n",
    "\n",
    "In the end, you can loop over a list like this\n",
    "\n",
    "```"
   ]
  },
  {
   "cell_type": "code",
   "execution_count": 6,
   "id": "6aa9f086-7951-42cd-85d0-b9105d31b1e0",
   "metadata": {
    "tags": [
     "full-width"
    ]
   },
   "outputs": [
    {
     "name": "stdout",
     "output_type": "stream",
     "text": [
      "1\n",
      "1.2\n",
      "banana\n",
      "[2, 3]\n"
     ]
    }
   ],
   "source": [
    "for k in range(len(my_list)):\n",
    "    print(my_list[k])"
   ]
  },
  {
   "cell_type": "markdown",
   "id": "b1e0b4cb-e3e8-41aa-ae93-ce80b7e7b50c",
   "metadata": {},
   "source": [
    "```{div} full-width\n",
    "\n",
    "or, even better, like this\n",
    "\n",
    "```"
   ]
  },
  {
   "cell_type": "code",
   "execution_count": 7,
   "id": "25ea9f07-e95e-417e-b00c-4a6bb665df86",
   "metadata": {
    "tags": [
     "full-width"
    ]
   },
   "outputs": [
    {
     "name": "stdout",
     "output_type": "stream",
     "text": [
      "1\n",
      "1.2\n",
      "banana\n",
      "[2, 3]\n"
     ]
    }
   ],
   "source": [
    "for elem in my_list:\n",
    "    print(elem)"
   ]
  },
  {
   "cell_type": "markdown",
   "id": "4357689f-951d-4065-b918-4e4e444b4adb",
   "metadata": {},
   "source": [
    "```{div} full-width\n",
    "\n",
    "You can also have the list index and the element using the following syntax for the loop\n",
    "\n",
    "```"
   ]
  },
  {
   "cell_type": "code",
   "execution_count": 8,
   "id": "51342d58-9703-4af5-8719-3e9eb854580d",
   "metadata": {
    "tags": [
     "full-width"
    ]
   },
   "outputs": [
    {
     "name": "stdout",
     "output_type": "stream",
     "text": [
      "0 1\n",
      "1 1.2\n",
      "2 banana\n",
      "3 [2, 3]\n"
     ]
    }
   ],
   "source": [
    "for k,elem in enumerate(my_list):\n",
    "    print(k,elem)"
   ]
  },
  {
   "cell_type": "markdown",
   "id": "22742120-f46c-4146-81d8-d396cb6a0d67",
   "metadata": {},
   "source": [
    "```{div} full-width\n",
    "\n",
    "**Modify a list**\n",
    "\n",
    "We can also modify a list by appending new elements \n",
    "\n",
    "```"
   ]
  },
  {
   "cell_type": "code",
   "execution_count": 9,
   "id": "9dc98b9e-a65c-4ab4-939c-6874b8d9000e",
   "metadata": {
    "tags": [
     "full-width"
    ]
   },
   "outputs": [
    {
     "name": "stdout",
     "output_type": "stream",
     "text": [
      "[1, 1.2, 'banana', [2, 3], 'apple']\n"
     ]
    }
   ],
   "source": [
    "my_list.append(\"apple\")\n",
    "print(my_list)"
   ]
  },
  {
   "cell_type": "markdown",
   "id": "c79a1858-4f40-4e29-b28b-c1fc1bda20a2",
   "metadata": {},
   "source": [
    "```{div} full-width\n",
    "\n",
    "or modifying a specific element\n",
    "\n",
    "```"
   ]
  },
  {
   "cell_type": "code",
   "execution_count": 10,
   "id": "6a8d0cec-69c3-4ec9-8ab2-01c51c9ee2f1",
   "metadata": {
    "tags": [
     "full-width"
    ]
   },
   "outputs": [
    {
     "name": "stdout",
     "output_type": "stream",
     "text": [
      "[1, 1.2, 'modified element', [2, 3], 'apple']\n"
     ]
    }
   ],
   "source": [
    "my_list[2] = \"modified element\"\n",
    "print(my_list)"
   ]
  },
  {
   "cell_type": "markdown",
   "id": "43c12c06-5447-4c67-af38-0bc7b45ade2a",
   "metadata": {},
   "source": [
    "```{div} full-width\n",
    "\n",
    "Let us define a second list\n",
    "\n",
    "```"
   ]
  },
  {
   "cell_type": "code",
   "execution_count": 11,
   "id": "98be485e-3571-4ea3-8097-49a3ca74f84d",
   "metadata": {
    "tags": [
     "full-width"
    ]
   },
   "outputs": [
    {
     "name": "stdout",
     "output_type": "stream",
     "text": [
      "1\n"
     ]
    }
   ],
   "source": [
    "my_second_list = [9,\"banana\"]\n",
    "print(a)"
   ]
  },
  {
   "cell_type": "markdown",
   "id": "0c84e4ac-d726-4e92-b924-86b76d789743",
   "metadata": {},
   "source": [
    "```{div} full-width\n",
    "\n",
    "and define a new list as the sum of the two already defined lists\n",
    "\n",
    "```"
   ]
  },
  {
   "cell_type": "code",
   "execution_count": 12,
   "id": "5627e49d-1062-4a03-98f4-c456176a436f",
   "metadata": {
    "tags": [
     "full-width"
    ]
   },
   "outputs": [
    {
     "name": "stdout",
     "output_type": "stream",
     "text": [
      "[1, 1.2, 'modified element', [2, 3], 'apple', 9, 'banana']\n"
     ]
    }
   ],
   "source": [
    "my_sum_list = my_list + my_second_list \n",
    "print(my_sum_list)"
   ]
  },
  {
   "cell_type": "markdown",
   "id": "9f61cf3c-03e5-4781-8c46-7ec34756d15e",
   "metadata": {},
   "source": [
    "```{div} full-width\n",
    "\n",
    "Similar to the code in [64], you can append a new element to a list by adding a list on the fly\n",
    "\n",
    "```"
   ]
  },
  {
   "cell_type": "code",
   "execution_count": 13,
   "id": "a925cca6-4505-4f26-b20c-0e5194566693",
   "metadata": {
    "tags": [
     "full-width"
    ]
   },
   "outputs": [
    {
     "name": "stdout",
     "output_type": "stream",
     "text": [
      "[1, 1.2, 'modified element', [2, 3], 'apple', 47, 'last element']\n"
     ]
    }
   ],
   "source": [
    "my_list += [ 47, \"last element\" ]\n",
    "print(my_list)"
   ]
  },
  {
   "cell_type": "markdown",
   "id": "7812b0d1-9268-4790-a6c2-b3ecb0ac2d4b",
   "metadata": {},
   "source": [
    "### Tuples\n",
    "\n",
    "```{div} full-width\n",
    "\n",
    "Like lists, tuples are used to store multiple items in a single variable\n",
    "\n",
    "```"
   ]
  },
  {
   "cell_type": "code",
   "execution_count": 14,
   "id": "1da08af7-607a-4373-95f3-f8ce866230c7",
   "metadata": {
    "tags": [
     "full-width"
    ]
   },
   "outputs": [
    {
     "name": "stdout",
     "output_type": "stream",
     "text": [
      "(1, 'banana', [2, 3])\n"
     ]
    }
   ],
   "source": [
    "my_tuple = (1,\"banana\",[2,3])\n",
    "print(my_tuple)"
   ]
  },
  {
   "cell_type": "markdown",
   "id": "2e6be308-9ea0-4f4a-89be-27907d965ce1",
   "metadata": {},
   "source": [
    "```{div} full-width\n",
    "\n",
    "You can access to its elements as it was a list and loop over it\n",
    "\n",
    "\n",
    "```"
   ]
  },
  {
   "cell_type": "code",
   "execution_count": 15,
   "id": "9e3d55e3-38cd-4119-a72b-49b884695c0e",
   "metadata": {},
   "outputs": [
    {
     "name": "stdout",
     "output_type": "stream",
     "text": [
      "banana\n"
     ]
    }
   ],
   "source": [
    "print(my_tuple[1])"
   ]
  },
  {
   "cell_type": "code",
   "execution_count": 16,
   "id": "6d07e935-481a-412a-8e1f-907e8c49fdef",
   "metadata": {
    "tags": [
     "full-width"
    ]
   },
   "outputs": [
    {
     "name": "stdout",
     "output_type": "stream",
     "text": [
      "1\n",
      "banana\n",
      "[2, 3]\n"
     ]
    }
   ],
   "source": [
    "for elem in my_tuple:\n",
    "    print(elem)"
   ]
  },
  {
   "cell_type": "markdown",
   "id": "90bb8e9e-af84-40ee-a3d4-e40f46355a8d",
   "metadata": {},
   "source": [
    "```{div} full-width\n",
    "\n",
    "The primary difference between tuples and lists is that tuples are immutable as opposed to lists which are mutable. Therefore, it is possible to change a list but not a tuple. \n",
    "\n",
    "When we try to modify a tuple\n",
    "\n",
    "```"
   ]
  },
  {
   "cell_type": "code",
   "execution_count": 17,
   "id": "b4aa1b6e-ac9b-452e-a87d-a87391c015ed",
   "metadata": {
    "tags": [
     "full-width"
    ]
   },
   "outputs": [
    {
     "ename": "TypeError",
     "evalue": "'tuple' object does not support item assignment",
     "output_type": "error",
     "traceback": [
      "\u001b[0;31m---------------------------------------------------------------------------\u001b[0m",
      "\u001b[0;31mTypeError\u001b[0m                                 Traceback (most recent call last)",
      "Cell \u001b[0;32mIn[17], line 1\u001b[0m\n\u001b[0;32m----> 1\u001b[0m \u001b[43mmy_tuple\u001b[49m\u001b[43m[\u001b[49m\u001b[38;5;241;43m2\u001b[39;49m\u001b[43m]\u001b[49m \u001b[38;5;241m=\u001b[39m \u001b[38;5;124m\"\u001b[39m\u001b[38;5;124mmodified element\u001b[39m\u001b[38;5;124m\"\u001b[39m\n",
      "\u001b[0;31mTypeError\u001b[0m: 'tuple' object does not support item assignment"
     ]
    }
   ],
   "source": [
    "my_tuple[2] = \"modified element\""
   ]
  },
  {
   "cell_type": "markdown",
   "id": "0507405b-437b-4750-86a0-ffc18e9881f9",
   "metadata": {},
   "source": [
    "```{div} full-width\n",
    "\n",
    "we get an error which says that `'tuple' object does not support item assignment`. So, do not do it in your codes.\n",
    "\n",
    "```"
   ]
  },
  {
   "cell_type": "markdown",
   "id": "17783c3a-c07d-4140-8fe0-c790940842ad",
   "metadata": {},
   "source": [
    "### Dictionaries\n",
    "\n",
    "```{div} full-width\n",
    "Dictionaries are defined using the curly brackets and assigning a python object to a keywords as in the following examples\n",
    "```"
   ]
  },
  {
   "cell_type": "code",
   "execution_count": 18,
   "id": "f20276ed-22cc-4e82-be14-b0f84c8a1b85",
   "metadata": {
    "tags": [
     "full-width"
    ]
   },
   "outputs": [
    {
     "name": "stdout",
     "output_type": "stream",
     "text": [
      "{'name': 'john', 'height': 185, 'weight': 75}\n"
     ]
    }
   ],
   "source": [
    "my_dict = {\"name\": \"john\", \"height\": 185, \"weight\": 75}\n",
    "print(my_dict)"
   ]
  },
  {
   "cell_type": "markdown",
   "id": "3eda9d73-be93-48c9-a787-a3b28f532c37",
   "metadata": {},
   "source": [
    "```{div} full-width\n",
    "Afterwards, we can get the object assigned to a specific keyword by evaluating the dictionary at the desired keyword\n",
    "```"
   ]
  },
  {
   "cell_type": "code",
   "execution_count": 38,
   "id": "f93c0fe1-3a52-4d19-846c-09e4fe053432",
   "metadata": {
    "tags": [
     "full-width"
    ]
   },
   "outputs": [
    {
     "data": {
      "text/plain": [
       "185"
      ]
     },
     "execution_count": 38,
     "metadata": {},
     "output_type": "execute_result"
    }
   ],
   "source": [
    "my_dict[\"height\"]"
   ]
  },
  {
   "cell_type": "markdown",
   "id": "e248b029-bc0a-4351-b0cf-7663dc933ca1",
   "metadata": {},
   "source": [
    "```{div} full-width\n",
    "\n",
    "We method `.keys`, `.values` and `.items` returs itarable objects listing the keywords of the dictonary (in the order with whioch they have been define), the assigned objects and tuple of keywords and assigned objects\n",
    "\n",
    "```"
   ]
  },
  {
   "cell_type": "code",
   "execution_count": 39,
   "id": "a4a49386-94a3-4ade-ab88-1d881d345d29",
   "metadata": {
    "tags": [
     "full-width"
    ]
   },
   "outputs": [
    {
     "name": "stdout",
     "output_type": "stream",
     "text": [
      "dict_keys(['name', 'height', 'weight'])\n"
     ]
    }
   ],
   "source": [
    "print(my_dict.keys())"
   ]
  },
  {
   "cell_type": "code",
   "execution_count": 40,
   "id": "b8fc8d60-221e-4cd9-b402-20678a0757de",
   "metadata": {
    "tags": [
     "full-width"
    ]
   },
   "outputs": [
    {
     "name": "stdout",
     "output_type": "stream",
     "text": [
      "dict_values(['john', 185, 75])\n"
     ]
    }
   ],
   "source": [
    "print(my_dict.values())"
   ]
  },
  {
   "cell_type": "code",
   "execution_count": 41,
   "id": "6e8c4c82-9331-4d44-b720-8358faf68e21",
   "metadata": {
    "tags": [
     "full-width"
    ]
   },
   "outputs": [
    {
     "name": "stdout",
     "output_type": "stream",
     "text": [
      "dict_items([('name', 'john'), ('height', 185), ('weight', 75)])\n"
     ]
    }
   ],
   "source": [
    "print(my_dict.items())"
   ]
  },
  {
   "cell_type": "markdown",
   "id": "4e50b122-79ba-4ebb-bbc1-8c34f424f5de",
   "metadata": {},
   "source": [
    "```{div} full-width\n",
    "\n",
    "Here below some examples of loops over the keywords and the objects of a dictionary\n",
    "\n",
    "```"
   ]
  },
  {
   "cell_type": "code",
   "execution_count": 44,
   "id": "6be097cf-aa06-4987-88d6-cb82411a883f",
   "metadata": {
    "tags": [
     "full-width"
    ]
   },
   "outputs": [
    {
     "name": "stdout",
     "output_type": "stream",
     "text": [
      "name\n",
      "height\n",
      "weight\n"
     ]
    }
   ],
   "source": [
    "for elem in my_dict:\n",
    "    print(elem)"
   ]
  },
  {
   "cell_type": "code",
   "execution_count": 45,
   "id": "dc6b1029-eaca-4b37-b2ad-abe210d86a6b",
   "metadata": {
    "tags": [
     "full-width"
    ]
   },
   "outputs": [
    {
     "name": "stdout",
     "output_type": "stream",
     "text": [
      "name john\n",
      "height 185\n",
      "weight 75\n"
     ]
    }
   ],
   "source": [
    "for a in my_dict:\n",
    "    print(a,my_dict[a])"
   ]
  },
  {
   "cell_type": "markdown",
   "id": "3a1d7c54-57c5-496a-9bf1-13d989cb410d",
   "metadata": {},
   "source": [
    "```{div} full-width\n",
    "\n",
    "A common way to loop over a dictionary consists in using the method `.items` as follows\n",
    "\n",
    "```"
   ]
  },
  {
   "cell_type": "code",
   "execution_count": 47,
   "id": "777a7ce5-1442-4d1c-b526-1e939effac2b",
   "metadata": {
    "tags": [
     "full-width"
    ]
   },
   "outputs": [
    {
     "name": "stdout",
     "output_type": "stream",
     "text": [
      "name john\n",
      "height 185\n",
      "weight 75\n"
     ]
    }
   ],
   "source": [
    "for key,value in my_dict.items():\n",
    "    print(key,value)"
   ]
  },
  {
   "cell_type": "markdown",
   "id": "7f041e30-e559-4aa9-a772-5b39c30d801a",
   "metadata": {},
   "source": [
    "## Functions"
   ]
  },
  {
   "cell_type": "markdown",
   "id": "bb10b3c8-fc9c-46aa-939e-e9e4996fb258",
   "metadata": {},
   "source": [
    "```{div} full-width \n",
    "\n",
    "Let us understand how define functions in python from the following example\n",
    "\n",
    "```"
   ]
  },
  {
   "cell_type": "code",
   "execution_count": 26,
   "id": "fc7dd3dc-9ea4-4c12-a56e-8059126c8e46",
   "metadata": {},
   "outputs": [],
   "source": [
    "def myfun(x, a=0, b=0):\n",
    "    y = (x-a)**2 + b\n",
    "    return y"
   ]
  },
  {
   "cell_type": "markdown",
   "id": "cc518b49-9410-478c-9a08-40d9a2d14460",
   "metadata": {},
   "source": [
    "```{div} full-width \n",
    "\n",
    "Here `x` is a mandatory argument that represent the point $x$ at which we want evulate the function $(x-a)^2+b$, while `a` and `b` are optional arguments that can be used to modify the definition of the implemented function. If not given as argument when the function is called, the dafault values `a=0` and `b=0` are used. Let us use this function in some cases and print the results\n",
    "\n",
    "```"
   ]
  },
  {
   "cell_type": "code",
   "execution_count": 27,
   "id": "74630712-7fa0-4590-a22e-f84db9181d54",
   "metadata": {},
   "outputs": [
    {
     "name": "stdout",
     "output_type": "stream",
     "text": [
      "16\n",
      "17\n",
      "9\n",
      "9\n",
      "10\n"
     ]
    }
   ],
   "source": [
    "print(myfun(4))\n",
    "print(myfun(4, b=1))\n",
    "print(myfun(4, a=1))\n",
    "print(myfun(4, 1)) \n",
    "print(myfun(4, 1, 1)) "
   ]
  },
  {
   "cell_type": "markdown",
   "id": "d43c61d1-0a2e-4f12-8500-9ba5f87ae747",
   "metadata": {},
   "source": [
    "```{div} full-width \n",
    "\n",
    "By the way in which it has been defined, `myfun` can accept also arrays of points $x$. Let us use the function `linspace` from `numpy` to generate an array of 5 points from -1 to 1 \n",
    "\n",
    "```"
   ]
  },
  {
   "cell_type": "code",
   "execution_count": 28,
   "id": "cc5efb32-d14f-4f13-aefd-98500399a041",
   "metadata": {},
   "outputs": [
    {
     "name": "stdout",
     "output_type": "stream",
     "text": [
      "[-1.  -0.5  0.   0.5  1. ]\n"
     ]
    }
   ],
   "source": [
    "import numpy as np\n",
    "xs = np.linspace(-1,1,5)\n",
    "print(xs)"
   ]
  },
  {
   "cell_type": "markdown",
   "id": "3a26b638-491d-47c0-bd29-9599dcdd3a82",
   "metadata": {},
   "source": [
    "```{div} full-width \n",
    "\n",
    "and evaluate the function\n",
    "\n",
    "```"
   ]
  },
  {
   "cell_type": "code",
   "execution_count": 29,
   "id": "626e54e3-6717-4727-acba-1d7c0adeadd5",
   "metadata": {},
   "outputs": [
    {
     "name": "stdout",
     "output_type": "stream",
     "text": [
      "[1.   0.25 0.   0.25 1.  ]\n"
     ]
    }
   ],
   "source": [
    "print(myfun(xs))"
   ]
  },
  {
   "cell_type": "markdown",
   "id": "54e682c0-cc11-4349-8222-4b89e790b1ef",
   "metadata": {},
   "source": [
    "### Lambda functions"
   ]
  },
  {
   "cell_type": "markdown",
   "id": "e78e634d-7c43-4975-aebc-5a16ad9764cb",
   "metadata": {},
   "source": [
    "```{div} full-width \n",
    "\n",
    "We can also define a function using the `lambda` command as follows\n",
    "\n",
    "```"
   ]
  },
  {
   "cell_type": "code",
   "execution_count": 30,
   "id": "7dd6245c-edea-4200-bdfa-298db1dea119",
   "metadata": {},
   "outputs": [],
   "source": [
    "a, b = 1, 1\n",
    "myfun = lambda x: (x-a)**2 + b"
   ]
  },
  {
   "cell_type": "code",
   "execution_count": 31,
   "id": "8568704d-5718-4caf-82ff-327a6d0c457a",
   "metadata": {},
   "outputs": [
    {
     "name": "stdout",
     "output_type": "stream",
     "text": [
      "10\n"
     ]
    }
   ],
   "source": [
    "print(myfun(4))"
   ]
  },
  {
   "cell_type": "markdown",
   "id": "5fa5de37-1af4-4594-b260-212072e95c74",
   "metadata": {},
   "source": [
    "```{div} full-width \n",
    "\n",
    "We note that the baheaviour of the lambda function changes if the two parameters are redefined\n",
    "\n",
    "```"
   ]
  },
  {
   "cell_type": "code",
   "execution_count": 32,
   "id": "49813e8d-3d21-49b9-9310-9093d3fe66f2",
   "metadata": {},
   "outputs": [],
   "source": [
    "a, b = 0, 0"
   ]
  },
  {
   "cell_type": "code",
   "execution_count": 33,
   "id": "fba11a8a-9a72-4669-86a6-58df5339469a",
   "metadata": {},
   "outputs": [
    {
     "name": "stdout",
     "output_type": "stream",
     "text": [
      "16\n"
     ]
    }
   ],
   "source": [
    "print(myfun(4))"
   ]
  },
  {
   "cell_type": "markdown",
   "id": "5386af5c-f063-47e6-a97c-79aaa1604bae",
   "metadata": {},
   "source": [
    "### Plotting\n",
    "\n",
    "```{div} full-width \n",
    "In order to plot a function, let us first create a `numpy` array with the values where we intend evaluate the functions using the function `np.linspace`\n",
    "```"
   ]
  },
  {
   "cell_type": "code",
   "execution_count": 36,
   "id": "ef2bb224-5601-4a87-b8c4-ab619a220c68",
   "metadata": {},
   "outputs": [],
   "source": [
    "xs = np.linspace(-2, 2, 1001)"
   ]
  },
  {
   "cell_type": "markdown",
   "id": "5c0fa343-d789-41d2-9c1f-36d60e866b05",
   "metadata": {},
   "source": [
    "```{div} full-width\n",
    "\n",
    "Then, we import the `matplotlib.pyplot` modules, evaluate the function and plot it\n",
    "```"
   ]
  },
  {
   "cell_type": "code",
   "execution_count": 37,
   "id": "d5b9ebb3-35b2-4b1d-bfa1-aa973adec2f8",
   "metadata": {},
   "outputs": [
    {
     "data": {
      "image/png": "[encoded data removed]",
      "text/plain": [
       "<Figure size 640x480 with 1 Axes>"
      ]
     },
     "metadata": {},
     "output_type": "display_data"
    }
   ],
   "source": [
    "import matplotlib.pyplot as plt\n",
    "\n",
    "ys = myfun(xs)\n",
    "\n",
    "fig, ax = plt.subplots(tight_layout=True)\n",
    "ax.plot(xs,ys);"
   ]
  },
  {
   "cell_type": "markdown",
   "id": "d936ac53-7e7e-4cd5-9689-b181065810f7",
   "metadata": {},
   "source": [
    "<p style=\"page-break-after:always;\"></p>"
   ]
  }
 ],
 "metadata": {
  "kernelspec": {
   "display_name": "Python 3 (ipykernel)",
   "language": "python",
   "name": "python3"
  },
  "language_info": {
   "codemirror_mode": {
    "name": "ipython",
    "version": 3
   },
   "file_extension": ".py",
   "mimetype": "text/x-python",
   "name": "python",
   "nbconvert_exporter": "python",
   "pygments_lexer": "ipython3",
   "version": "3.11.0"
  },
  "vscode": {
   "interpreter": {
    "hash": "08caa3043962126f476598f374ef4590cb926dd2604ebc7838e928cc5205f4af"
   }
  }
 },
 "nbformat": 4,
 "nbformat_minor": 5
}
